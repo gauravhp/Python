{
  "nbformat": 4,
  "nbformat_minor": 0,
  "metadata": {
    "colab": {
      "name": "Introduction to Pytest.ipynb",
      "provenance": [],
      "collapsed_sections": [],
      "include_colab_link": true
    },
    "kernelspec": {
      "name": "python3",
      "display_name": "Python 3"
    }
  },
  "cells": [
    {
      "cell_type": "markdown",
      "metadata": {
        "id": "view-in-github",
        "colab_type": "text"
      },
      "source": [
        "<a href=\"https://colab.research.google.com/github/gauravhp/Python/blob/master/Introduction_to_Pytest.ipynb\" target=\"_parent\"><img src=\"https://colab.research.google.com/assets/colab-badge.svg\" alt=\"Open In Colab\"/></a>"
      ]
    },
    {
      "cell_type": "markdown",
      "metadata": {
        "id": "g58N8MaT4GXX"
      },
      "source": [
        "**Some content made from chapters of the Testing In Python book**\n",
        "\n",
        "* [Buy a copy on LeanPub](https://leanpub.com/testinginpython)\n",
        "* [Buy a copy from Amazon](https://www.amazon.com/Testing-Python-Robust-Professionals-ebook/dp/B0852BJ57Z/ref=sr_1_3?dchild=1&qid=1591183850&sr=8-3)\n",
        "\n",
        "\n",
        "![Testing In Python Book](https://d2sofvawe08yqg.cloudfront.net/testinginpython/hero?1579007318)"
      ]
    },
    {
      "cell_type": "markdown",
      "metadata": {
        "id": "H4J3RLKvHwux"
      },
      "source": [
        "## Python's unittest\n",
        "What does the standard library has to offer? And how does it look to write tests in it?"
      ]
    },
    {
      "cell_type": "code",
      "metadata": {
        "id": "Y9zaFUOXGK4s"
      },
      "source": [
        "import unittest\n",
        "\n",
        "class TestExample(unittest.TestCase):\n",
        "\n",
        "  def test_assertion(self):\n",
        "    self.assertEquals(\"some string\", \"some other\")\n",
        "\n",
        "unittest.main(argv=[''], verbosity=2, exit=False)"
      ],
      "execution_count": null,
      "outputs": []
    },
    {
      "cell_type": "markdown",
      "metadata": {
        "id": "fYaDioF4-zFf"
      },
      "source": [
        "## How do you feel about learning test methods from `unittest`?\n",
        "\n",
        "* `self.assertEqual(a, b)`\n",
        "* `self.assertNotEqual(a, b)`\n",
        "* `self.assertTrue(x)`\n",
        "* `self.assertFalse(x)`\n",
        "* `self.assertIs(a, b)`\n",
        "* `self.assertIsNot(a, b)`\n",
        "* `self.assertIsNone(x)`\n",
        "* `self.assertIsNotNone(x)`\n",
        "* `self.assertIn(a, b)`\n",
        "* `self.assertNotIn(a, b)`\n",
        "* `self.assertIsInstance(a, b)`\n",
        "* `self.assertNotIsInstance(a, b)`\n",
        "* `self.assertRaises(exc, fun, *args, **kwds)`\n",
        "* `self.assertRaisesRegex(exc, r, fun, *args, **kwds)`\n",
        "* `self.assertWarns(warn, fun, *args, **kwds)`\n",
        "* `self.assertWarnsRegex(warn, r, fun, *args, **kwds)`\n",
        "* `self.assertLogs(logger, level)`\n",
        "* `self.assertMultiLineEqual(a, b)`\n",
        "* `self.assertSequenceEqual(a, b)`\n",
        "* `self.assertListEqual(a, b)`\n",
        "* `self.assertTupleEqual(a, b)`\n",
        "* `self.assertSetEqual(a, b)`\n",
        "* `self.assertDictEqual(a, b)`\n",
        "* `self.assertAlmostEqual(a, b)`\n",
        "* `self.assertNotAlmostEqual(a, b)`\n",
        "* `self.assertGreater(a, b)`\n",
        "* `self.assertGreaterEqual(a, b)`\n",
        "* `self.assertLess(a, b)`\n",
        "* `self.assertLessEqual(a, b)`\n",
        "* `self.assertRegex(s, r)`\n",
        "* `self.assertNotRegex(s, r)`\n",
        "* `self.assertCountEqual(a, b)`\n"
      ]
    },
    {
      "cell_type": "code",
      "metadata": {
        "id": "1JK3Szr4-7qz"
      },
      "source": [
        "import unittest\n",
        "\n",
        "class TestExample(unittest.TestCase):\n",
        "\n",
        "  def test_assertion(self):\n",
        "    self.assertNotAlmostEqual(2.00, 2.00)\n",
        "\n",
        "unittest.main(argv=[''], verbosity=2, exit=False)"
      ],
      "execution_count": null,
      "outputs": []
    },
    {
      "cell_type": "markdown",
      "metadata": {
        "id": "FoYOOpzjMWA6"
      },
      "source": [
        "## Welcome to Pytest\n",
        "The land where everything is simpler and practical:\n",
        "\n",
        "* A command-line tool, but also a framework\n",
        "* Doesn't force one to use the framework\n",
        "* No classes required\n",
        "* Can run functions\n",
        "* Allows simple `assert` calls in tests\n",
        "* Ultra-rich output, which can be turned off!\n",
        "\n",
        "_Pytest makes you want to actually write tests_"
      ]
    },
    {
      "cell_type": "code",
      "metadata": {
        "id": "ocD4AQyr1pXC"
      },
      "source": [
        "assert \"this string is long\" == \"this string is Long\", \"this thing failed\""
      ],
      "execution_count": null,
      "outputs": []
    },
    {
      "cell_type": "markdown",
      "metadata": {
        "id": "N5naAfceM9rR"
      },
      "source": [
        "### Installing and running:\n",
        "\n",
        "```text\n",
        "$ pip install pytest\n",
        "$ pytest --help\n",
        "```\n",
        "\n",
        "Run it as simple as:\n",
        "\n",
        "```text\n",
        "$ pytest \n",
        "```\n",
        "\n",
        "Automatically picks up and discovers tests, but optionally it allows to specify files or actual tests."
      ]
    },
    {
      "cell_type": "markdown",
      "metadata": {
        "id": "QDK7iRmbNUb3"
      },
      "source": [
        "### Tests can be functions or classes\n",
        "\n",
        "```python\n",
        "def test_my_function():\n",
        "  assert 1 == 1\n",
        "```\n",
        "\n",
        "Classes do not need inheritance:\n",
        "\n",
        "```python\n",
        "class TestMyClass:\n",
        "\n",
        "  def test_my_method(self):\n",
        "    assert 1 == 1\n",
        "```\n"
      ]
    },
    {
      "cell_type": "markdown",
      "metadata": {
        "id": "d557O7tLIRgT"
      },
      "source": [
        "# Test layouts\n",
        "How do you add new tests or place them in a project? What if there are no test directories yet? What about running them automatically?"
      ]
    },
    {
      "cell_type": "markdown",
      "metadata": {
        "id": "Uu9tgGv_Lu2K"
      },
      "source": [
        "### Directory layout starts with `tests`\n",
        "\n",
        "* From `tests` you can add anything like `unit`, `functional` or other meaningful names like `database`\n",
        "\n",
        "* Files need to be pre-fixed with `test_`\n",
        "\n",
        "* Test functions need to be prefixed with `test_`\n",
        "\n",
        "* Test classes need to be prefixed with `Test`"
      ]
    },
    {
      "cell_type": "code",
      "metadata": {
        "id": "1FA3OcuFQtPA"
      },
      "source": [
        "%%writefile test_util.py\n",
        "\n",
        "def str_to_int(string):\n",
        "    \"\"\"\n",
        "    Parses a string number into an integer, optionally converting to a float\n",
        "    and rounding down.\n",
        "\n",
        "    [\"1\"] -> raises RuntimeError\n",
        "    \"\"\"\n",
        "    error_msg = \"Unable to convert to integer: '%s'\" % str(string)\n",
        "    try:\n",
        "        integer = float(string.replace(',', '.'))\n",
        "    except AttributeError:\n",
        "        # this might be a integer already, so try to use it, otherwise raise\n",
        "        # the original exception\n",
        "        if isinstance(string, (int, float)):\n",
        "            integer = string\n",
        "        else:\n",
        "            raise RuntimeError(error_msg)\n",
        "    except (TypeError, ValueError):\n",
        "        raise RuntimeError(error_msg)\n",
        "\n",
        "    return int(integer)\n",
        "\n",
        "\n",
        "\n",
        "class TestFloats:\n",
        "\n",
        "    def setup(self):\n",
        "        print('\\nthis is setup')\n",
        "\n",
        "    def teardown(self):\n",
        "        print('\\nthis is teardown')\n",
        "\n",
        "    def setup_class(cls):\n",
        "        print('\\nthis is setup class')\n",
        "\n",
        "    def teardown_class(cls):\n",
        "        print('\\nthis is teardown class')\n",
        "\n",
        "    def test_rounds_down(self):\n",
        "        result = str_to_int('1.99')\n",
        "        assert result == 1\n",
        "\n",
        "    def test_round_down_lesser_half(self):\n",
        "        result = str_to_int('1.2')\n",
        "        assert result == 1\n"
      ],
      "execution_count": null,
      "outputs": []
    },
    {
      "cell_type": "code",
      "metadata": {
        "id": "BG1wvESCQ5mi"
      },
      "source": [
        "!pytest test_util.py"
      ],
      "execution_count": null,
      "outputs": []
    },
    {
      "cell_type": "code",
      "metadata": {
        "id": "nNeTAGeeIgTw"
      },
      "source": [
        "!git clone https://github.com/alfredodeza/barebones\n",
        "!apt install tree"
      ],
      "execution_count": null,
      "outputs": []
    },
    {
      "cell_type": "code",
      "metadata": {
        "id": "elgKeUAGCFVU"
      },
      "source": [
        "!tree barebones"
      ],
      "execution_count": null,
      "outputs": []
    },
    {
      "cell_type": "code",
      "metadata": {
        "id": "6_uzdOoZCMzf"
      },
      "source": [
        "!pip install pytest"
      ],
      "execution_count": null,
      "outputs": []
    },
    {
      "cell_type": "code",
      "metadata": {
        "id": "a_3KHipCIodd"
      },
      "source": [
        "!pytest -vv barebones -k \"test_yes_is\""
      ],
      "execution_count": null,
      "outputs": []
    },
    {
      "cell_type": "code",
      "metadata": {
        "id": "3ZtMp20lVyHk"
      },
      "source": [
        "!pytest --collect-only test_util.py"
      ],
      "execution_count": null,
      "outputs": []
    },
    {
      "cell_type": "markdown",
      "metadata": {
        "id": "362hTtzlPzpm"
      },
      "source": [
        "Inspect the files around the [barebones project](https://github.com/alfredodeza/barebones). It is a simple project that sorts and prettifies JSON to `stdout` or in a file."
      ]
    }
  ]
}